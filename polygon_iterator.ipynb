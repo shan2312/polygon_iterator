{
  "nbformat": 4,
  "nbformat_minor": 0,
  "metadata": {
    "colab": {
      "provenance": [],
      "authorship_tag": "ABX9TyPTaCqKlVB6q25mwXZBsvg0",
      "include_colab_link": true
    },
    "kernelspec": {
      "name": "python3",
      "display_name": "Python 3"
    },
    "language_info": {
      "name": "python"
    }
  },
  "cells": [
    {
      "cell_type": "markdown",
      "metadata": {
        "id": "view-in-github",
        "colab_type": "text"
      },
      "source": [
        "<a href=\"https://colab.research.google.com/github/shan2312/polygon_iterator/blob/main/polygon_iterator.ipynb\" target=\"_parent\"><img src=\"https://colab.research.google.com/assets/colab-badge.svg\" alt=\"Open In Colab\"/></a>"
      ]
    },
    {
      "cell_type": "code",
      "execution_count": 2,
      "metadata": {
        "id": "5H4I0iITJrtK"
      },
      "outputs": [],
      "source": [
        "from polygons import Polygons\n",
        "polygons = Polygons(10, 1)"
      ]
    },
    {
      "cell_type": "code",
      "source": [
        "for p in polygons:\n",
        "  print(p)"
      ],
      "metadata": {
        "colab": {
          "base_uri": "https://localhost:8080/"
        },
        "id": "yl26TodhJ5Xn",
        "outputId": "b3ed7a8c-d3e7-44e2-e51a-2c6461018e1a"
      },
      "execution_count": 3,
      "outputs": [
        {
          "output_type": "stream",
          "name": "stdout",
          "text": [
            "Polygon(n=3, R=1)\n",
            "Polygon(n=4, R=1)\n",
            "Polygon(n=5, R=1)\n",
            "Polygon(n=6, R=1)\n",
            "Polygon(n=7, R=1)\n",
            "Polygon(n=8, R=1)\n",
            "Polygon(n=9, R=1)\n",
            "Polygon(n=10, R=1)\n"
          ]
        }
      ]
    },
    {
      "cell_type": "code",
      "source": [
        "for p in polygons:\n",
        "  print(p)"
      ],
      "metadata": {
        "colab": {
          "base_uri": "https://localhost:8080/"
        },
        "id": "tx9i4CYXKTb7",
        "outputId": "e3989bb6-8e02-4927-c12f-2e18fc6f0a57"
      },
      "execution_count": 4,
      "outputs": [
        {
          "output_type": "stream",
          "name": "stdout",
          "text": [
            "Polygon(n=3, R=1)\n",
            "Polygon(n=4, R=1)\n",
            "Polygon(n=5, R=1)\n",
            "Polygon(n=6, R=1)\n",
            "Polygon(n=7, R=1)\n",
            "Polygon(n=8, R=1)\n",
            "Polygon(n=9, R=1)\n",
            "Polygon(n=10, R=1)\n"
          ]
        }
      ]
    },
    {
      "cell_type": "code",
      "source": [],
      "metadata": {
        "id": "IwL7ysGiKX3O"
      },
      "execution_count": null,
      "outputs": []
    }
  ]
}